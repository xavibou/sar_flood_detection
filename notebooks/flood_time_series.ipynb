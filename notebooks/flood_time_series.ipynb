{
 "cells": [
  {
   "cell_type": "code",
   "execution_count": 2,
   "id": "fa02ffa8",
   "metadata": {},
   "outputs": [],
   "source": [
    "# Imports\n",
    "import sys  \n",
    "sys.path.insert(0, '..')\n",
    "\n",
    "import os\n",
    "import torch\n",
    "import numpy as np\n",
    "\n",
    "from flood_detection import detect_floods\n",
    "from datasets.mmflood_datamodule import TemporalMMFloodDataModule"
   ]
  },
  {
   "cell_type": "code",
   "execution_count": 3,
   "id": "78d8cbc4",
   "metadata": {},
   "outputs": [
    {
     "name": "stdout",
     "output_type": "stream",
     "text": [
      "torch.Size([60, 2, 721, 719])\n"
     ]
    }
   ],
   "source": [
    "data_dir = '/Users/xavibou/Documents/repos/data/mmflood/multidate'\n",
    "num_workers = 0\n",
    "datamodule = TemporalMMFloodDataModule(data_dir, num_workers=num_workers, batch_size=1)\n",
    "\n",
    "dataloader = datamodule.dataloader()\n",
    "\n",
    "idx = 9\n",
    "s1, s2, dem, mask = dataloader.dataset[idx]\n",
    "print(s1.shape)"
   ]
  },
  {
   "cell_type": "code",
   "execution_count": 4,
   "id": "8f6bb560",
   "metadata": {
    "scrolled": true
   },
   "outputs": [
    {
     "name": "stdout",
     "output_type": "stream",
     "text": [
      "Processing image 1 / 60\n",
      "Model initialized\n",
      "Processing image 2 / 60\n",
      "Processing image 3 / 60\n"
     ]
    },
    {
     "ename": "KeyboardInterrupt",
     "evalue": "",
     "output_type": "error",
     "traceback": [
      "\u001b[0;31m---------------------------------------------------------------------------\u001b[0m",
      "\u001b[0;31mKeyboardInterrupt\u001b[0m                         Traceback (most recent call last)",
      "Cell \u001b[0;32mIn[4], line 10\u001b[0m\n\u001b[1;32m      7\u001b[0m init_noise_perc \u001b[38;5;241m=\u001b[39m \u001b[38;5;241m0.05\u001b[39m\n\u001b[1;32m      8\u001b[0m init_frames \u001b[38;5;241m=\u001b[39m \u001b[38;5;241m30\u001b[39m\n\u001b[0;32m---> 10\u001b[0m \u001b[43mdetect_floods\u001b[49m\u001b[43m(\u001b[49m\u001b[43ms1\u001b[49m\u001b[38;5;241;43m.\u001b[39;49m\u001b[43mnumpy\u001b[49m\u001b[43m(\u001b[49m\u001b[43m)\u001b[49m\u001b[43m,\u001b[49m\u001b[43m \u001b[49m\u001b[43msave_dir\u001b[49m\u001b[43m,\u001b[49m\u001b[43m \u001b[49m\u001b[43mthr\u001b[49m\u001b[38;5;241;43m=\u001b[39;49m\u001b[43mthr\u001b[49m\u001b[43m,\u001b[49m\u001b[43m \u001b[49m\u001b[43mnum_components\u001b[49m\u001b[38;5;241;43m=\u001b[39;49m\u001b[43mnum_components\u001b[49m\u001b[43m,\u001b[49m\u001b[43m \u001b[49m\u001b[43mband\u001b[49m\u001b[38;5;241;43m=\u001b[39;49m\u001b[43mband\u001b[49m\u001b[43m,\u001b[49m\u001b[43m \u001b[49m\u001b[43msample_num\u001b[49m\u001b[38;5;241;43m=\u001b[39;49m\u001b[43msample_num\u001b[49m\u001b[43m,\u001b[49m\u001b[43m \u001b[49m\u001b[43mmin_c\u001b[49m\u001b[38;5;241;43m=\u001b[39;49m\u001b[43mmin_c\u001b[49m\u001b[43m,\u001b[49m\u001b[43m \u001b[49m\u001b[43minit_noise_perc\u001b[49m\u001b[38;5;241;43m=\u001b[39;49m\u001b[43minit_noise_perc\u001b[49m\u001b[43m,\u001b[49m\u001b[43m \u001b[49m\u001b[43minit_frames\u001b[49m\u001b[38;5;241;43m=\u001b[39;49m\u001b[43minit_frames\u001b[49m\u001b[43m)\u001b[49m\n",
      "File \u001b[0;32m~/Documents/repos/flood_detection/notebooks/../flood_detection.py:131\u001b[0m, in \u001b[0;36mdetect_floods\u001b[0;34m(s1_series, save_dir, thr, num_components, band, sample_num, min_c, init_noise_perc, init_frames, boxcar_window)\u001b[0m\n\u001b[1;32m    129\u001b[0m \u001b[38;5;66;03m# Water segmentation\u001b[39;00m\n\u001b[1;32m    130\u001b[0m filtered \u001b[38;5;241m=\u001b[39m boxcar(s1_series[i, band,:,:], \u001b[38;5;241m8\u001b[39m)\n\u001b[0;32m--> 131\u001b[0m current \u001b[38;5;241m=\u001b[39m \u001b[43msegment_sar_image\u001b[49m\u001b[43m(\u001b[49m\u001b[43mfiltered\u001b[49m\u001b[43m,\u001b[49m\u001b[43m \u001b[49m\u001b[43mthr\u001b[49m\u001b[38;5;241;43m=\u001b[39;49m\u001b[43mthr\u001b[49m\u001b[43m,\u001b[49m\u001b[43m \u001b[49m\u001b[43mnum_components\u001b[49m\u001b[38;5;241;43m=\u001b[39;49m\u001b[43mnum_components\u001b[49m\u001b[43m,\u001b[49m\u001b[43m \u001b[49m\u001b[43mband\u001b[49m\u001b[38;5;241;43m=\u001b[39;49m\u001b[43mband\u001b[49m\u001b[43m)\u001b[49m\n\u001b[1;32m    133\u001b[0m \u001b[38;5;66;03m# Classify flooded pixels\u001b[39;00m\n\u001b[1;32m    134\u001b[0m prediction \u001b[38;5;241m=\u001b[39m classify(current, model, min_c\u001b[38;5;241m=\u001b[39mmin_c)\n",
      "File \u001b[0;32m~/Documents/repos/flood_detection/notebooks/../utils/processing_utils.py:87\u001b[0m, in \u001b[0;36msegment_sar_image\u001b[0;34m(img, thr, num_components, band)\u001b[0m\n\u001b[1;32m     85\u001b[0m sar_seg \u001b[38;5;241m=\u001b[39m np\u001b[38;5;241m.\u001b[39mzeros_like(img)\n\u001b[1;32m     86\u001b[0m sar_seg[img \u001b[38;5;241m<\u001b[39m thr] \u001b[38;5;241m=\u001b[39m \u001b[38;5;241m1\u001b[39m\n\u001b[0;32m---> 87\u001b[0m sar_seg \u001b[38;5;241m=\u001b[39m \u001b[43mfilter_by_region\u001b[49m\u001b[43m(\u001b[49m\u001b[43msar_seg\u001b[49m\u001b[43m,\u001b[49m\u001b[43m \u001b[49m\u001b[43mthr\u001b[49m\u001b[38;5;241;43m=\u001b[39;49m\u001b[43mnum_components\u001b[49m\u001b[43m)\u001b[49m\n\u001b[1;32m     88\u001b[0m \u001b[38;5;28;01mreturn\u001b[39;00m sar_seg\n",
      "File \u001b[0;32m~/Documents/repos/flood_detection/notebooks/../utils/processing_utils.py:67\u001b[0m, in \u001b[0;36mfilter_by_region\u001b[0;34m(segmap, thr)\u001b[0m\n\u001b[1;32m     63\u001b[0m \u001b[38;5;28;01mfor\u001b[39;00m i \u001b[38;5;129;01min\u001b[39;00m \u001b[38;5;28mrange\u001b[39m(segmap\u001b[38;5;241m.\u001b[39mshape[\u001b[38;5;241m0\u001b[39m]):\n\u001b[1;32m     64\u001b[0m     \u001b[38;5;28;01mfor\u001b[39;00m j \u001b[38;5;129;01min\u001b[39;00m \u001b[38;5;28mrange\u001b[39m(segmap\u001b[38;5;241m.\u001b[39mshape[\u001b[38;5;241m1\u001b[39m]):\n\u001b[1;32m     65\u001b[0m \n\u001b[1;32m     66\u001b[0m         \u001b[38;5;66;03m# If pixel is a change candidate, evaluate region and correct if necessary\u001b[39;00m\n\u001b[0;32m---> 67\u001b[0m         \u001b[38;5;28;01mif\u001b[39;00m (segmap[i, j] \u001b[38;5;241m==\u001b[39m \u001b[38;5;241m1\u001b[39m) \u001b[38;5;129;01mand\u001b[39;00m (checked_map[i, j]) \u001b[38;5;241m==\u001b[39m \u001b[38;5;241m0\u001b[39m:\n\u001b[1;32m     69\u001b[0m             segmap, checked_map  \u001b[38;5;241m=\u001b[39m grow_region(i, j, segmap, checked_map, thr)\n\u001b[1;32m     71\u001b[0m \u001b[38;5;28;01mreturn\u001b[39;00m segmap\n",
      "\u001b[0;31mKeyboardInterrupt\u001b[0m: "
     ]
    }
   ],
   "source": [
    "save_dir = '/Users/xavibou/Documents/repos/flood_detection/run/vibe_based_approach_417_VERIFFF'\n",
    "thr = 0.03\n",
    "num_components = 20\n",
    "band = 0\n",
    "sample_num = 5\n",
    "min_c = 1\n",
    "init_noise_perc = 0.05\n",
    "init_frames = 30\n",
    "\n",
    "detect_floods(s1.numpy(), save_dir, thr=thr, num_components=num_components, band=band, sample_num=sample_num, min_c=min_c, init_noise_perc=init_noise_perc, init_frames=init_frames)"
   ]
  },
  {
   "cell_type": "code",
   "execution_count": null,
   "id": "6f77d851",
   "metadata": {},
   "outputs": [],
   "source": []
  }
 ],
 "metadata": {
  "kernelspec": {
   "display_name": "Python 3 (ipykernel)",
   "language": "python",
   "name": "python3"
  },
  "language_info": {
   "codemirror_mode": {
    "name": "ipython",
    "version": 3
   },
   "file_extension": ".py",
   "mimetype": "text/x-python",
   "name": "python",
   "nbconvert_exporter": "python",
   "pygments_lexer": "ipython3",
   "version": "3.10.4"
  }
 },
 "nbformat": 4,
 "nbformat_minor": 5
}
